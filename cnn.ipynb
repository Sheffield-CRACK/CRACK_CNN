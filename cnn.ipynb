{
 "cells": [
  {
   "cell_type": "markdown",
   "id": "54480098-bcb9-438f-a821-8f5977a2f196",
   "metadata": {},
   "source": [
    "Create a convolutional neural network to classify images"
   ]
  },
  {
   "cell_type": "code",
   "execution_count": 47,
   "id": "02a61715-6fd5-435a-9e96-1106dbe58983",
   "metadata": {},
   "outputs": [],
   "source": [
    "import os\n",
    "import matplotlib.pyplot as plt\n",
    "import tensorflow as tf\n",
    "import numpy as np\n",
    "from sklearn.metrics import confusion_matrix as cf_mtx\n",
    "from mpl_toolkits.axes_grid1 import make_axes_locatable\n",
    "from tensorflow.keras import layers, models"
   ]
  },
  {
   "cell_type": "code",
   "execution_count": 54,
   "id": "8b4f59d6-7b16-4593-9821-dd9eed6bf42a",
   "metadata": {},
   "outputs": [],
   "source": [
    "# Create a convolutional neural network\n",
    "def create_convnet(input_shape, n_classes, dense_neurons=128, dropout=0.5):\n",
    "\n",
    "    # Create a convolutional base, with a stack of convolutional and maxpool layers\n",
    "    model = models.Sequential([\n",
    "        layers.Conv2D(filters=32, kernel_size=5, activation='relu', input_shape=input_shape),\n",
    "        layers.BatchNormalization(),\n",
    "        layers.MaxPooling2D(padding='same'),\n",
    "        layers.Conv2D(filters=64, kernel_size=3, activation='relu'),\n",
    "        layers.BatchNormalization(),\n",
    "        layers.MaxPooling2D(padding='same'),\n",
    "        layers.Conv2D(filters=64, kernel_size=3, activation='relu'),\n",
    "        layers.BatchNormalization(),\n",
    "        layers.MaxPooling2D(padding='same'),\n",
    "        layers.Flatten(),\n",
    "        layers.Dense(dense_neurons, activation='relu'),\n",
    "        layers.Dropout(dropout),\n",
    "        layers.Dense(dense_neurons, activation='relu', kernel_regularizer=tf.keras.regularizers.L2(0.01)),\n",
    "        layers.Dropout(dropout),\n",
    "        layers.Dense(n_classes, activation='softmax'),\n",
    "    ])\n",
    "\n",
    "    return model\n",
    "\n",
    "# Get class weights to handle imbalance\n",
    "def get_class_weights(y, verbose=False):\n",
    "    \n",
    "    counts = np.unique(y, return_counts=True)\n",
    "    weights = (np.sum(counts[1]) / counts[1]) / len(counts[0])\n",
    "    \n",
    "    if verbose == True:\n",
    "        print('Class weights:', dict(zip(counts[0], weights)))\n",
    "\n",
    "    return dict(zip(counts[0], weights))\n",
    "\n",
    "# Training loop\n",
    "def train_model(model, Xtrain, ytrain, Xval, yval,\n",
    "    learning_rate, epochs, batch_size, loss, metrics,\n",
    "    model_savedir, use_weights=False):\n",
    "\n",
    "    # Create a callback to save model weights\n",
    "    cp_callback = tf.keras.callbacks.ModelCheckpoint(\n",
    "        filepath='{}/model_weights/cp.ckpt'.format(model_savedir),\n",
    "        save_weights_only=True, verbose=1)\n",
    "\n",
    "    # Compile the model\n",
    "    model.compile(optimizer=tf.keras.optimizers.Adam(learning_rate=learning_rate),\n",
    "        loss=loss, metrics=metrics)\n",
    "\n",
    "    # If use_weights flag is true, calculate class weights and used them in training\n",
    "    if use_weights == True:\n",
    "        # Get class weights\n",
    "        class_weights = get_class_weights(ytrain, verbose=True)\n",
    "\n",
    "        # Train the model\n",
    "        history = model.fit(Xtrain, ytrain, validation_data=(Xval, yval),\n",
    "            epochs=epochs, batch_size=batch_size, callbacks=[cp_callback],\n",
    "            class_weight=class_weights)\n",
    "    else:\n",
    "        # Train the model\n",
    "        history = model.fit(Xtrain, y_train, validation_data=(Xval, yval),\n",
    "            epochs=epochs, batch_size=batch_size, callbacks=[cp_callback])\n",
    "\n",
    "    # Save trained model and weights\n",
    "    model.save(os.path.join('{}/trained_model.h5'.format(model_savedir)))\n",
    "    \n",
    "    return model, history\n",
    "\n",
    "# Plot training history\n",
    "def plot_history(history, epochs):\n",
    "\n",
    "    x = np.arange(epochs, dtype=int) + 1\n",
    "    plt.plot(x, history.history['loss'], label='Training loss')\n",
    "    plt.plot(x, history.history['val_loss'], label='Validation loss')\n",
    "    plt.legend(frameon=False)\n",
    "    plt.ylabel('Loss')\n",
    "    plt.xlabel('Epoch')\n",
    "\n",
    "# Plot a confusion matrix\n",
    "def confusion_matrix(y_pred, y_true, labels, normalize=True, size=(8,8), title=None):\n",
    "\n",
    "    cm_abs = cf_mtx(y_true, np.argmax(y_pred, axis=1))\n",
    "\n",
    "    if normalize == True:\n",
    "        cm = cm_abs.astype('float') / cm_abs.sum(axis=1, keepdims=True)\n",
    "    \n",
    "    # Define colourmap for plot\n",
    "    cmap = plt.cm.Oranges\n",
    "\n",
    "    fig, ax = plt.subplots(figsize=size)\n",
    "    im = ax.imshow(cm, interpolation='nearest', cmap=cmap)\n",
    "\n",
    "    # Create an axis to the right of ax. Width of cax will be 5% of ax and the\n",
    "    # padding between cax and ax will be fixed at 0.05 in\n",
    "    divider = make_axes_locatable(ax)\n",
    "    cax = divider.append_axes(\"right\", size=\"5%\", pad=0.2)\n",
    "\n",
    "    ax.figure.colorbar(im, cax=cax)\n",
    "    ax.set_aspect('equal')\n",
    "    # We want to show all ticks...\n",
    "    ax.set(xticks=np.arange(cm.shape[1]),\n",
    "        yticks=np.arange(cm.shape[0]),\n",
    "        # ... and label them with the respective list entries\n",
    "        xticklabels=labels, yticklabels=labels,\n",
    "        ylabel='True label',\n",
    "        xlabel='Predicted label')\n",
    "\n",
    "    # Set the tick labels font\n",
    "    for item in ([ax.title, ax.xaxis.label, ax.yaxis.label] +\n",
    "             ax.get_xticklabels() + ax.get_yticklabels()):\n",
    "        item.set_fontsize(20)\n",
    "\n",
    "    ax.set_title(title)\n",
    "    ax.tick_params(axis='y', pad=10)\n",
    "    ax.set_ylim(len(cm)-0.5, -0.5)    # Needed to fix a bug that cuts the plot\n",
    "\n",
    "    # Rotate the tick labels and set their alignment.\n",
    "    plt.setp(ax.get_xticklabels(), ha=\"right\", rotation=0,\n",
    "            rotation_mode=\"anchor\")\n",
    "    im.set_clim(0,1)\n",
    "    #plt.setp(ax.get_yticklabels(), ha=\"center\",\n",
    "            #rotation=90, rotation_mode='anchor')\n",
    "\n",
    "    # Loop over data dimensions and create text annotations.\n",
    "    fmt = '.2f' #if normalize else 'd'\n",
    "    abs_fmt = 'd'\n",
    "    thresh = cm.max() / 2.\n",
    "    for i in range(cm.shape[0]):\n",
    "        for j in range(cm.shape[1]):\n",
    "            ax.text(j, i, format(cm[i, j], fmt),\n",
    "                    ha=\"center\", va=\"center\",\n",
    "                    color=\"white\" if cm[i, j] > thresh else \"black\", fontsize=16)\n",
    "            ax.text(j, i+0.15, '({})'.format(cm_abs[i, j], abs_fmt),\n",
    "                    ha=\"center\", va=\"center\",\n",
    "                    color=\"white\" if cm[i, j] > thresh else \"black\", fontsize=14)\n",
    "            \n",
    "    plt.tight_layout()\n",
    "\n",
    "    return plt"
   ]
  },
  {
   "cell_type": "code",
   "execution_count": 9,
   "id": "8e5df828-dd0d-4ec7-9a63-53a802134265",
   "metadata": {},
   "outputs": [],
   "source": [
    "# Load data\n",
    "X_train = np.load('X_train.npy', allow_pickle=True)\n",
    "y_train = np.load('y_train.npy', allow_pickle=True)\n",
    "X_val = np.load('X_val.npy', allow_pickle=True)\n",
    "y_val = np.load('y_val.npy', allow_pickle=True)\n",
    "X_test = np.load('X_test.npy', allow_pickle=True)\n",
    "y_test = np.load('y_test.npy', allow_pickle=True)"
   ]
  },
  {
   "cell_type": "code",
   "execution_count": 10,
   "id": "ef8b9804-33c3-4eb5-8837-5c7809f6bf4f",
   "metadata": {},
   "outputs": [
    {
     "name": "stdout",
     "output_type": "stream",
     "text": [
      "(3796, 25, 120)\n"
     ]
    }
   ],
   "source": [
    "print(X_train.shape)"
   ]
  },
  {
   "cell_type": "code",
   "execution_count": 35,
   "id": "c57f04a8-1ddf-4624-a197-5077adaa0a71",
   "metadata": {},
   "outputs": [
    {
     "name": "stdout",
     "output_type": "stream",
     "text": [
      "Class weights: {0: 0.5898989898989899, 1: 14.378787878787877, 2: 0.8095542759650245}\n",
      "Epoch 1/10\n",
      "59/60 [============================>.] - ETA: 0s - loss: 2.5748 - accuracy: 0.4936\n",
      "Epoch 1: saving model to trained_model/model_weights/cp.ckpt\n",
      "60/60 [==============================] - 5s 84ms/step - loss: 2.5739 - accuracy: 0.4942 - val_loss: 2.4782 - val_accuracy: 0.0252\n",
      "Epoch 2/10\n",
      "59/60 [============================>.] - ETA: 0s - loss: 2.2678 - accuracy: 0.5826\n",
      "Epoch 2: saving model to trained_model/model_weights/cp.ckpt\n",
      "60/60 [==============================] - 5s 79ms/step - loss: 2.2667 - accuracy: 0.5825 - val_loss: 2.5624 - val_accuracy: 0.0252\n",
      "Epoch 3/10\n",
      "59/60 [============================>.] - ETA: 0s - loss: 2.2445 - accuracy: 0.5900\n",
      "Epoch 3: saving model to trained_model/model_weights/cp.ckpt\n",
      "60/60 [==============================] - 5s 79ms/step - loss: 2.2410 - accuracy: 0.5909 - val_loss: 2.6221 - val_accuracy: 0.0252\n",
      "Epoch 4/10\n",
      "59/60 [============================>.] - ETA: 0s - loss: 2.0833 - accuracy: 0.6043\n",
      "Epoch 4: saving model to trained_model/model_weights/cp.ckpt\n",
      "60/60 [==============================] - 5s 86ms/step - loss: 2.0812 - accuracy: 0.6046 - val_loss: 2.4927 - val_accuracy: 0.0252\n",
      "Epoch 5/10\n",
      "59/60 [============================>.] - ETA: 0s - loss: 2.0228 - accuracy: 0.6237\n",
      "Epoch 5: saving model to trained_model/model_weights/cp.ckpt\n",
      "60/60 [==============================] - 5s 79ms/step - loss: 2.0226 - accuracy: 0.6241 - val_loss: 2.2788 - val_accuracy: 0.2892\n",
      "Epoch 6/10\n",
      "59/60 [============================>.] - ETA: 0s - loss: 1.9506 - accuracy: 0.6311\n",
      "Epoch 6: saving model to trained_model/model_weights/cp.ckpt\n",
      "60/60 [==============================] - 5s 80ms/step - loss: 1.9483 - accuracy: 0.6317 - val_loss: 2.1219 - val_accuracy: 0.4164\n",
      "Epoch 7/10\n",
      "59/60 [============================>.] - ETA: 0s - loss: 1.8854 - accuracy: 0.6555\n",
      "Epoch 7: saving model to trained_model/model_weights/cp.ckpt\n",
      "60/60 [==============================] - 5s 81ms/step - loss: 1.8833 - accuracy: 0.6560 - val_loss: 1.9739 - val_accuracy: 0.5920\n",
      "Epoch 8/10\n",
      "59/60 [============================>.] - ETA: 0s - loss: 1.8742 - accuracy: 0.6719\n",
      "Epoch 8: saving model to trained_model/model_weights/cp.ckpt\n",
      "60/60 [==============================] - 5s 81ms/step - loss: 1.8739 - accuracy: 0.6728 - val_loss: 1.9023 - val_accuracy: 0.6593\n",
      "Epoch 9/10\n",
      "59/60 [============================>.] - ETA: 0s - loss: 1.8488 - accuracy: 0.6793\n",
      "Epoch 9: saving model to trained_model/model_weights/cp.ckpt\n",
      "60/60 [==============================] - 5s 80ms/step - loss: 1.8485 - accuracy: 0.6783 - val_loss: 1.8334 - val_accuracy: 0.7277\n",
      "Epoch 10/10\n",
      "59/60 [============================>.] - ETA: 0s - loss: 1.7707 - accuracy: 0.6965\n",
      "Epoch 10: saving model to trained_model/model_weights/cp.ckpt\n",
      "60/60 [==============================] - 5s 80ms/step - loss: 1.7699 - accuracy: 0.6965 - val_loss: 1.7949 - val_accuracy: 0.7413\n"
     ]
    }
   ],
   "source": [
    "n_classes = 3\n",
    "dense_neurons = 100\n",
    "input_shape = (25, 120, 1) # rows, columns, channels\n",
    "\n",
    "# Create CNN model\n",
    "cnn_model = create_convnet(input_shape=input_shape, n_classes=n_classes)\n",
    "\n",
    "# Set save directories\n",
    "model_savedir = 'trained_model'\n",
    "try:\n",
    "    os.makedirs(model_savedir)\n",
    "except FileExistsError:\n",
    "    pass\n",
    "\n",
    "# Set hyperparameters\n",
    "epochs = 10\n",
    "learning_rate = 1e-4\n",
    "batch_size = 64\n",
    "metrics = ['accuracy']\n",
    "# Define loss function\n",
    "loss=tf.losses.SparseCategoricalCrossentropy()\n",
    "\n",
    "cnn_model, history = train_model(cnn_model, X_train, y_train, X_val, y_val,\n",
    "                                 learning_rate=learning_rate, epochs=epochs,\n",
    "                                 batch_size=batch_size, loss=loss,\n",
    "                                 metrics=metrics, model_savedir=model_savedir,\n",
    "                                 use_weights=True)"
   ]
  },
  {
   "cell_type": "code",
   "execution_count": 40,
   "id": "9e234ff9-85c8-4aa0-b8d8-a7c22663cd49",
   "metadata": {},
   "outputs": [
    {
     "data": {
      "image/png": "[encoded data removed]",
      "text/plain": [
       "<Figure size 432x288 with 1 Axes>"
      ]
     },
     "metadata": {
      "needs_background": "light"
     },
     "output_type": "display_data"
    }
   ],
   "source": [
    "# Plot training history\n",
    "plot_history(history, epochs)"
   ]
  },
  {
   "cell_type": "code",
   "execution_count": 57,
   "id": "cbe1f720-787a-465b-98f4-03d599130eb8",
   "metadata": {},
   "outputs": [
    {
     "name": "stdout",
     "output_type": "stream",
     "text": [
      "2/2 [==============================] - 0s 141ms/step\n"
     ]
    },
    {
     "data": {
      "image/png": "[encoded data removed]",
      "text/plain": [
       "<Figure size 468x468 with 2 Axes>"
      ]
     },
     "metadata": {
      "needs_background": "light"
     },
     "output_type": "display_data"
    }
   ],
   "source": [
    "# Plot a confusion matrix\n",
    "y_pred = cnn_model.predict(X_test, batch_size=1000)\n",
    "\n",
    "labels = ['Ia', 'Ibc', 'II']\n",
    "confusion_matrix(y_pred, y_test, labels, size=(6.5, 6.5))\n",
    "plt.show()"
   ]
  }
 ],
 "metadata": {
  "kernelspec": {
   "display_name": "Python 3 (ipykernel)",
   "language": "python",
   "name": "python3"
  },
  "language_info": {
   "codemirror_mode": {
    "name": "ipython",
    "version": 3
   },
   "file_extension": ".py",
   "mimetype": "text/x-python",
   "name": "python",
   "nbconvert_exporter": "python",
   "pygments_lexer": "ipython3",
   "version": "3.8.10"
  }
 },
 "nbformat": 4,
 "nbformat_minor": 5
}
